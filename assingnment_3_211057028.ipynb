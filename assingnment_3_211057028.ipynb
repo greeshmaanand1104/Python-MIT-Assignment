{
  "nbformat": 4,
  "nbformat_minor": 0,
  "metadata": {
    "colab": {
      "name": "assingnment-3-211057028.ipynb",
      "provenance": [],
      "collapsed_sections": [],
      "authorship_tag": "ABX9TyNspYLQpHfF9k885A8udcun",
      "include_colab_link": true
    },
    "kernelspec": {
      "name": "python3",
      "display_name": "Python 3"
    },
    "language_info": {
      "name": "python"
    }
  },
  "cells": [
    {
      "cell_type": "markdown",
      "metadata": {
        "id": "view-in-github",
        "colab_type": "text"
      },
      "source": [
        "<a href=\"https://colab.research.google.com/github/greeshmaanand1104/Python-MIT-Assignment/blob/master/assingnment_3_211057028.ipynb\" target=\"_parent\"><img src=\"https://colab.research.google.com/assets/colab-badge.svg\" alt=\"Open In Colab\"/></a>"
      ]
    },
    {
      "cell_type": "code",
      "metadata": {
        "id": "YtzE1be86e3g",
        "colab": {
          "base_uri": "https://localhost:8080/"
        },
        "outputId": "bacafdc0-6438-405f-b6f4-602e16a3138a"
      },
      "source": [
        "#Lab Work:explore various type conversion loke string --> numbers, touples--> list, any other conversions \n",
        "print(\"string\")\n",
        "a= \"manipal institute of technology\"\n",
        "b= \"location manipal\"\n",
        "c= \"Manipal\"\n",
        "print(a.__add__(b))\n",
        "print(a.__contains__(b))\n",
        "print(b.__eq__(a))\n",
        "print(c.__hash__())\n",
        "print(c.capitalize())\n",
        "print(c.isalpha())\n",
        "print(a.islower())\n",
        "print(a.title())\n",
        "print(a.swapcase())\n",
        "print(a.split())\n",
        "\n"
      ],
      "execution_count": null,
      "outputs": [
        {
          "output_type": "stream",
          "name": "stdout",
          "text": [
            "string\n",
            "manipal institute of technologylocation manipal\n",
            "False\n",
            "False\n",
            "8252716581421321491\n",
            "Manipal\n",
            "True\n",
            "True\n",
            "Manipal Institute Of Technology\n",
            "MANIPAL INSTITUTE OF TECHNOLOGY\n",
            "['manipal', 'institute', 'of', 'technology']\n",
            "integer\n",
            "6\n",
            "True\n",
            "False\n",
            "2.0\n",
            "6\n",
            "4\n",
            "4.4\n",
            "8\n",
            "1\n",
            "NotImplemented\n",
            "float\n",
            "90.5\n",
            "True\n",
            "False\n",
            "11.6\n",
            "29\n",
            "6225.210000000001\n",
            "-67.30000000000001\n",
            "78.9\n",
            "False\n",
            "24\n",
            "tuples\n",
            "(11, 89.78, 'Good', 'morning', 5, 23.56, 'hello', 'world')\n",
            "NotImplemented\n",
            "4\n",
            "False\n",
            "56\n",
            "0\n",
            "0\n",
            "0\n",
            "NotImplemented\n",
            "(11, 89.78, 'Good', 'morning')\n",
            "dictionary\n",
            "['__class__', '__contains__', '__delattr__', '__delitem__', '__dir__', '__doc__', '__eq__', '__format__', '__ge__', '__getattribute__', '__getitem__', '__gt__', '__hash__', '__init__', '__init_subclass__', '__iter__', '__le__', '__len__', '__lt__', '__ne__', '__new__', '__reduce__', '__reduce_ex__', '__repr__', '__setattr__', '__setitem__', '__sizeof__', '__str__', '__subclasshook__', 'clear', 'copy', 'fromkeys', 'get', 'items', 'keys', 'pop', 'popitem', 'setdefault', 'update', 'values']\n",
            "{}\n",
            "{'brand': 'Ford', 'model': 'Mustang', 'year': 1964}\n",
            "{'key1': 0, 'key2': 0, 'key3': 0}\n",
            "Mustang\n",
            "dict_items([('brand', 'Ford'), ('model', 'Mustang'), ('year', 1964)])\n",
            "{'brand': 'Ford', 'year': 1964}\n",
            "{'brand': 'Ford'}\n",
            "{'brand': 'Ford', 'color': 'White', 'year': '1997'}\n",
            "1997\n",
            "{'brand': 'Ford', 'color': 'White', 'year': '1997'}\n",
            "dict_values(['Ford', 'White', '1997'])\n"
          ]
        }
      ]
    },
    {
      "cell_type": "code",
      "metadata": {
        "colab": {
          "base_uri": "https://localhost:8080/"
        },
        "id": "2t5Kkp0Edm6e",
        "outputId": "9a2d17c2-eee9-4d5b-f643-41e105a51da8"
      },
      "source": [
        "print(\"integer\")\n",
        "e = 2\n",
        "f = 6.4\n",
        "g = 4\n",
        "print (e.__add__(g))\n",
        "print(e.__bool__())\n",
        "print(e.__eq__(g))\n",
        "print(e.__float__())\n",
        "print(f.__round__())\n",
        "print(e.__pow__(2))\n",
        "print(f.__sub__(e))\n",
        "print(e.__lshift__(2))\n",
        "print(g.__rshift__(2))\n",
        "print(e.__and__(c))"
      ],
      "execution_count": null,
      "outputs": [
        {
          "output_type": "stream",
          "name": "stdout",
          "text": [
            "integer\n",
            "6\n",
            "True\n",
            "False\n",
            "2.0\n",
            "6\n",
            "4\n",
            "4.4\n",
            "8\n",
            "1\n",
            "NotImplemented\n"
          ]
        }
      ]
    },
    {
      "cell_type": "code",
      "metadata": {
        "colab": {
          "base_uri": "https://localhost:8080/"
        },
        "id": "Y35kQzJRd3bS",
        "outputId": "8f11f0af-cc42-4488-a7a5-613c35ad873d"
      },
      "source": [
        "print(\"float\")\n",
        "h = 28.9\n",
        "i = 78.9\n",
        "j = 11.6\n",
        "\n",
        "print (i.__add__(j))\n",
        "print(i.__bool__())\n",
        "print(i.__eq__(j))\n",
        "print(j.__float__())\n",
        "print(h.__round__())\n",
        "print(i.__pow__(2))\n",
        "print(j.__sub__(i))\n",
        "print(i.conjugate())\n",
        "print(h.is_integer())\n",
        "print(i.__sizeof__())"
      ],
      "execution_count": null,
      "outputs": [
        {
          "output_type": "stream",
          "name": "stdout",
          "text": [
            "float\n",
            "90.5\n",
            "True\n",
            "False\n",
            "11.6\n",
            "29\n",
            "6225.210000000001\n",
            "-67.30000000000001\n",
            "78.9\n",
            "False\n",
            "24\n"
          ]
        }
      ]
    },
    {
      "cell_type": "code",
      "metadata": {
        "colab": {
          "base_uri": "https://localhost:8080/"
        },
        "id": "1Q2Hd0t2d9qk",
        "outputId": "43c2b673-b4c6-4058-84fa-eb9d4324b50a"
      },
      "source": [
        "print(\"tuples\")\n",
        "k = (11,89.78,\"Good\",\"morning\")\n",
        "l = (5,23.56,\"hello\",\"world\")\n",
        "print(k.__add__(l))\n",
        "print(k.__eq__(b))\n",
        "print(k.__len__())\n",
        "print(k.__contains__(b))\n",
        "print(k.__sizeof__())\n",
        "print(k.count(2))\n",
        "print(k.index(11))\n",
        "print(k.count('o'))\n",
        "print(k.__subclasshook__(\"h\"))\n",
        "print(k.__str__())"
      ],
      "execution_count": null,
      "outputs": [
        {
          "output_type": "stream",
          "name": "stdout",
          "text": [
            "tuples\n",
            "(11, 89.78, 'Good', 'morning', 5, 23.56, 'hello', 'world')\n",
            "NotImplemented\n",
            "4\n",
            "False\n",
            "56\n",
            "0\n",
            "0\n",
            "0\n",
            "NotImplemented\n",
            "(11, 89.78, 'Good', 'morning')\n"
          ]
        }
      ]
    },
    {
      "cell_type": "code",
      "metadata": {
        "colab": {
          "base_uri": "https://localhost:8080/"
        },
        "id": "DGMMuerPeGEa",
        "outputId": "7b2a2d15-0977-444b-ad46-e9ee76b727c4"
      },
      "source": [
        "print(\"dictionary\")\n",
        "car = {\n",
        "  \"brand\": \"honda\",\n",
        "  \"model\": \"city_honda\",\n",
        "  \"year\": 1989}\n",
        "\n",
        "car.clear()\n",
        "print(car)\n",
        "\n",
        "car1 = {\n",
        "  \"brand\": \"Ford\",\n",
        "  \"model\": \"Mustang\",\n",
        "  \"year\": 1964\n",
        "}\n",
        "x = car1.copy()\n",
        "print(x)\n",
        "x = ('key1', 'key2', 'key3')\n",
        "y = 0\n",
        "thisdict = dict.fromkeys(x, y)\n",
        "print(thisdict)\n",
        "x = car1.get(\"model\")\n",
        "print(x)\n",
        "x = car1.items()\n",
        "print(x)\n",
        "car1.pop(\"model\")\n",
        "print(car1)\n",
        "car1.popitem()\n",
        "print(car1)\n",
        "car1.update({\"color\": \"White\"})\n",
        "car1.update({\"year\": \"1997\"})\n",
        "print(car1)\n",
        "x = car1.setdefault(\"year\", \"2021\")\n",
        "print(x)\n",
        "print(car1)\n",
        "x = car1.values()\n",
        "print(x)\n"
      ],
      "execution_count": null,
      "outputs": [
        {
          "output_type": "stream",
          "name": "stdout",
          "text": [
            "dictionary\n",
            "{}\n",
            "{'brand': 'Ford', 'model': 'Mustang', 'year': 1964}\n",
            "{'key1': 0, 'key2': 0, 'key3': 0}\n",
            "Mustang\n",
            "dict_items([('brand', 'Ford'), ('model', 'Mustang'), ('year', 1964)])\n",
            "{'brand': 'Ford', 'year': 1964}\n",
            "{'brand': 'Ford'}\n",
            "{'brand': 'Ford', 'color': 'White', 'year': '1997'}\n",
            "1997\n",
            "{'brand': 'Ford', 'color': 'White', 'year': '1997'}\n",
            "dict_values(['Ford', 'White', '1997'])\n"
          ]
        }
      ]
    },
    {
      "cell_type": "code",
      "metadata": {
        "colab": {
          "base_uri": "https://localhost:8080/"
        },
        "id": "oPOHbRCNh57-",
        "outputId": "88b057bc-c4dc-4054-95ea-80d7bd000ad1"
      },
      "source": [
        "print(\"set\")\n",
        "my_set = {1, 2, 3}\n",
        "print(my_set)\n",
        "my_set = {1.0, \"Hello\", (1, 2, 3)}\n",
        "print(my_set)\n",
        "\n",
        "my_set = {1, 2, 3, 4, 3, 2}\n",
        "print(my_set)\n",
        "a = {}\n",
        "print(type(a))\n",
        "a = set()\n",
        "print(type(a))\n",
        "my_set = {1, 3}\n",
        "print(my_set)\n",
        "my_set.add(2)\n",
        "print(my_set)\n",
        "my_set.update([2, 3, 4])\n",
        "print(my_set)\n",
        "my_set.update([4, 5], {1, 6, 8})\n",
        "print(my_set)\n",
        "my_set = {1, 3, 4, 5, 6}\n",
        "print(my_set)\n"
      ],
      "execution_count": null,
      "outputs": [
        {
          "output_type": "stream",
          "name": "stdout",
          "text": [
            "set\n",
            "{1, 2, 3}\n",
            "{1.0, 'Hello', (1, 2, 3)}\n",
            "{1, 2, 3, 4}\n",
            "<class 'dict'>\n",
            "<class 'set'>\n",
            "{1, 3}\n",
            "{1, 2, 3}\n",
            "{1, 2, 3, 4}\n",
            "{1, 2, 3, 4, 5, 6, 8}\n",
            "{1, 3, 4, 5, 6}\n"
          ]
        }
      ]
    },
    {
      "cell_type": "code",
      "metadata": {
        "colab": {
          "base_uri": "https://localhost:8080/"
        },
        "id": "4p0gqm-gjhwc",
        "outputId": "e85dfea3-53b8-48c8-d364-d9d8295bc4fc"
      },
      "source": [
        "print(\"list\")\n",
        "list1 = [1,2,3,4,5,6]\n",
        "print(\"list: \",list1)\n",
        "list1.insert(3, 9)\n",
        "print(\"list: \",list1)\n",
        "print(\"Index of 9: \",list1.index(9))\n",
        "print(\"Size of the object: \",list1.__sizeof__())\n",
        "list1.append(10)\n",
        "print(\"list: \",list1)\n",
        "list1.remove(9)\n",
        "print(\"list: \",list1)\n",
        "print('Popped element:',list1.pop())\n",
        "print(\"Count of 2 in list1: \",list1.count(2))\n",
        "list1.reverse()\n",
        "print(\"list1: \",list1)\n",
        "list2 = list1.copy()\n",
        "print(\"list2: \",list2)\n",
        "list2.clear()\n",
        "print(\"list2: \",list2)"
      ],
      "execution_count": null,
      "outputs": [
        {
          "output_type": "stream",
          "name": "stdout",
          "text": [
            "list\n",
            "list:  [1, 2, 3, 4, 5, 6]\n",
            "list:  [1, 2, 3, 9, 4, 5, 6]\n",
            "Index of 9:  3\n",
            "Size of the object:  120\n",
            "list:  [1, 2, 3, 9, 4, 5, 6, 10]\n",
            "list:  [1, 2, 3, 4, 5, 6, 10]\n",
            "Popped element: 10\n",
            "Count of 2 in list1:  1\n",
            "list1:  [6, 5, 4, 3, 2, 1]\n",
            "list2:  [6, 5, 4, 3, 2, 1]\n",
            "list2:  []\n"
          ]
        }
      ]
    },
    {
      "cell_type": "code",
      "metadata": {
        "colab": {
          "base_uri": "https://localhost:8080/"
        },
        "id": "gvpYRLLXYLKK",
        "outputId": "27a0b4d6-7fe3-43a7-af19-560af149096d"
      },
      "source": [
        "# there are two types of type conversions in python namely implicit and explicit type conversions\n",
        "\n",
        "\n",
        "print('Converting integer to float')\n",
        "\n",
        "a = 5\n",
        "print(\"before converting\")\n",
        "print(a,'is of type:',type(a))\n",
        "print(\"after converting\")\n",
        "a = float(a)\n",
        "print(a,'is of type:',type(a))"
      ],
      "execution_count": null,
      "outputs": [
        {
          "output_type": "stream",
          "name": "stdout",
          "text": [
            "Converting integer to float\n",
            "before converting\n",
            "5 is of type: <class 'int'>\n",
            "after converting\n",
            "5.0 is of type: <class 'float'>\n"
          ]
        }
      ]
    },
    {
      "cell_type": "code",
      "metadata": {
        "colab": {
          "base_uri": "https://localhost:8080/"
        },
        "id": "ncACbCSAINaB",
        "outputId": "6f15230b-42b6-456a-ffc4-f6b15ab9672b"
      },
      "source": [
        "print(\"convert float to integer\")\n",
        "print(\"before converting\")\n",
        "\n",
        "num1 = 5.9\n",
        "num2 = 5.99999999999999999999\n",
        "print(num1,'is of type',type(num1))\n",
        "print(num2,'is of type',type(num2))\n",
        "print(\"after converting\")\n",
        "num1 = int(num1)\n",
        "print(num1,'is of type',type(num1))\n",
        "\n",
        "print(type(num1))\n",
        "num2 = int(num2)\n",
        "print(num2,'is of type',type(num2))"
      ],
      "execution_count": null,
      "outputs": [
        {
          "output_type": "stream",
          "name": "stdout",
          "text": [
            "convert float to integer\n",
            "before converting\n",
            "5.9 is of type <class 'float'>\n",
            "6.0 is of type <class 'float'>\n",
            "after converting\n",
            "5 is of type <class 'int'>\n",
            "<class 'int'>\n",
            "6 is of type <class 'int'>\n"
          ]
        }
      ]
    },
    {
      "cell_type": "code",
      "metadata": {
        "colab": {
          "base_uri": "https://localhost:8080/"
        },
        "id": "bUnL82Ma-mOf",
        "outputId": "a131b2ee-d840-49ed-a717-2c45c99b7200"
      },
      "source": [
        "print(\"convertig string to int\")\n",
        "s = \"10010\"\n",
        "print(s)\n",
        "print(s,'is of type',type(s))\n",
        "# printing string(BINARY) converting to int base 2\n",
        "c = int(s,2)\n",
        "print (\"After converting to integer base 2 : \", end=\"\")\n",
        "print (c)\n",
        "print(c,'is of type',type(c))"
      ],
      "execution_count": null,
      "outputs": [
        {
          "output_type": "stream",
          "name": "stdout",
          "text": [
            "convertig string to int\n",
            "10010\n",
            "10010 is of type <class 'str'>\n",
            "After converting to integer base 2 : 18\n",
            "18 is of type <class 'int'>\n",
            "<class 'int'>\n",
            "<class 'str'>\n"
          ]
        }
      ]
    },
    {
      "cell_type": "code",
      "metadata": {
        "colab": {
          "base_uri": "https://localhost:8080/"
        },
        "id": "I980f9VhJLzR",
        "outputId": "684d101a-6698-417c-f8c7-4dd46daa08ec"
      },
      "source": [
        "print(\"convert int to string\")\n",
        "num = 10\n",
        "print(num)\n",
        "print(\"befor converting\")\n",
        "print(num,'is of type',type(num))\n",
        "print(\"after converting\")\n",
        "converted_num = \"% s\" % num\n",
        "print(num,'is of type',type(converted_num))\n"
      ],
      "execution_count": null,
      "outputs": [
        {
          "output_type": "stream",
          "name": "stdout",
          "text": [
            "convert int to string\n",
            "10\n",
            "befor converting\n",
            "10 is of type <class 'int'>\n",
            "after converting\n",
            "10 is of type <class 'str'>\n"
          ]
        }
      ]
    },
    {
      "cell_type": "code",
      "metadata": {
        "colab": {
          "base_uri": "https://localhost:8080/"
        },
        "id": "Ou_9NaSSI5UA",
        "outputId": "db80943b-726e-479f-94dd-8e893be1b2f3"
      },
      "source": [
        "print(\"converting string to float\")\n",
        "print(s)\n",
        "print(\"before converting\")\n",
        "print(s,'is of type',type(s))\n",
        "e = float(s)\n",
        "print (\"After converting to float : \", end=\"\")\n",
        "print(e)\n",
        "print(e,'is of type',type(e))"
      ],
      "execution_count": null,
      "outputs": [
        {
          "output_type": "stream",
          "name": "stdout",
          "text": [
            "converting string to float\n",
            "10010\n",
            "before converting\n",
            "10010 is of type <class 'str'>\n",
            "After converting to float : 10010.0\n",
            "10010.0 is of type <class 'float'>\n"
          ]
        }
      ]
    },
    {
      "cell_type": "code",
      "metadata": {
        "colab": {
          "base_uri": "https://localhost:8080/"
        },
        "id": "HqmnCGyyLkNq",
        "outputId": "517136b5-5e9f-40cc-aa02-6f3f98ffa5d6"
      },
      "source": [
        "pi = 3.1415\n",
        "print(pi)\n",
        "print(\"before converting\")\n",
        "print(pi,'is of type',type(pi)) \n",
        "\n",
        "piInString = str(pi)  \n",
        "print(\"after converting\")\n",
        "print(piInString\n",
        "      ,'is of type',type(piInString)) "
      ],
      "execution_count": null,
      "outputs": [
        {
          "output_type": "stream",
          "name": "stdout",
          "text": [
            "3.1415\n",
            "before converting\n",
            "3.1415 is of type <class 'float'>\n",
            "after converting\n",
            "3.1415 is of type <class 'str'>\n"
          ]
        }
      ]
    },
    {
      "cell_type": "code",
      "metadata": {
        "colab": {
          "base_uri": "https://localhost:8080/"
        },
        "id": "py-cj4LVCaYQ",
        "outputId": "93e1ed10-a6f1-4a2b-bbec-5b5b38b98b39"
      },
      "source": [
        "print(\"given integer is 56\")\n",
        "print(\"converting to hexadecimal\")\n",
        "a = hex(56)\n",
        "print (\"After converting 56 to hexadecimal string : \",end=\"\")\n",
        "print (a)\n",
        "print(type(a))\n",
        "\n",
        "print(\"converting octal\")\n",
        "b = oct(56)\n",
        "print (\"After converting 56 to octal string : \",end=\"\")\n",
        "print (b)\n",
        "print(type(b))\n"
      ],
      "execution_count": null,
      "outputs": [
        {
          "output_type": "stream",
          "name": "stdout",
          "text": [
            "given integer is 56\n",
            "converting to hexadecimal\n",
            "After converting 56 to hexadecimal string : 0x38\n",
            "<class 'str'>\n",
            "converting octal\n",
            "After converting 56 to octal string : 0o70\n",
            "<class 'str'>\n"
          ]
        }
      ]
    },
    {
      "cell_type": "code",
      "metadata": {
        "colab": {
          "base_uri": "https://localhost:8080/"
        },
        "id": "yHYORDyTEH7h",
        "outputId": "71efaf35-159a-4862-b807-72d4dbb0fb71"
      },
      "source": [
        "\n",
        "\n",
        "\n",
        "# initializing string\n",
        "s = 'geeks'\n",
        "print(s,'is of type',type(s))\n",
        "\n",
        "print(\"string converting to tuple\")\n",
        "c = tuple(s)\n",
        "print (\"After converting string to tuple : \",end=\"\")\n",
        "print (c)\n",
        "print(c,'is of type',type(c))\n",
        "\n",
        "print(\"string converting to set\")\n",
        "d = set(s)\n",
        "print (\"After converting string to set : \",end=\"\")\n",
        "print (d)\n",
        "print(d,'is of type',type(d))\n",
        "\n",
        "print(\"string converting to list\")\n",
        "e = list(s)\n",
        "print (\"After converting string to list : \",end=\"\")\n",
        "print (e)\n",
        "print(e,'is of type',type(e))\n"
      ],
      "execution_count": null,
      "outputs": [
        {
          "output_type": "stream",
          "name": "stdout",
          "text": [
            "geeks is of type <class 'str'>\n",
            "string converting to tuple\n",
            "After converting string to tuple : ('g', 'e', 'e', 'k', 's')\n",
            "('g', 'e', 'e', 'k', 's') is of type <class 'tuple'>\n",
            "string converting to set\n",
            "After converting string to set : {'e', 'k', 'g', 's'}\n",
            "{'e', 'k', 'g', 's'} is of type <class 'set'>\n",
            "string converting to list\n",
            "After converting string to list : ['g', 'e', 'e', 'k', 's']\n",
            "['g', 'e', 'e', 'k', 's'] is of type <class 'list'>\n"
          ]
        }
      ]
    },
    {
      "cell_type": "code",
      "metadata": {
        "colab": {
          "base_uri": "https://localhost:8080/"
        },
        "id": "EhMFvfIqEw-5",
        "outputId": "54c59376-5709-49de-c74a-a006d871dba1"
      },
      "source": [
        "print(\"converting tuples to strings\")\n",
        "tup1 = ('h','e','l','l','o')\n",
        "print(tup1)\n",
        "print(tup1,'is of type',type(tup1))\n",
        "print(\"after converting\")\n",
        "str = ''.join(tup1)\n",
        "print (str)\n",
        "print(str,'is of type',type(str))\n",
        "print(\"converting set to string\")\n",
        "set1 = {\"h\",\"e\",\"l\",\"l\",\"o\"}\n",
        "print(set1)\n",
        "print(set1,'is of type',type(set1))\n",
        "print(\"after converting\")\n",
        "str1 = \" \".join(set1)\n",
        "\n",
        "print(str1)\n",
        "print(str1,'is of type',type(str1))\n",
        "\n",
        "\n"
      ],
      "execution_count": null,
      "outputs": [
        {
          "output_type": "stream",
          "name": "stdout",
          "text": [
            "converting tuples to strings\n",
            "('h', 'e', 'l', 'l', 'o')\n",
            "('h', 'e', 'l', 'l', 'o') is of type <class 'tuple'>\n",
            "after converting\n",
            "hello\n",
            "hello is of type <class 'str'>\n",
            "converting set to string\n",
            "{'e', 'l', 'o', 'h'}\n",
            "{'e', 'l', 'o', 'h'} is of type <class 'set'>\n",
            "after converting\n",
            "e l o h\n",
            "e l o h is of type <class 'str'>\n"
          ]
        }
      ]
    },
    {
      "cell_type": "code",
      "metadata": {
        "colab": {
          "base_uri": "https://localhost:8080/"
        },
        "id": "DdOWQiXTVisi",
        "outputId": "856ee9d8-6f9a-461e-dbc5-84ad2d72cfb0"
      },
      "source": [
        "print(\"convert list to set\")\n",
        "a_list = [1, 2, 3, 3]\n",
        "print(a_list)\n",
        "print(a_list,'is of type',type(a_list))\n",
        "converted_set = set(a_list)\n",
        "print(\"after converting list to set\")\n",
        "print(converted_set)\n",
        "print(converted_set,'is of type',type(converted_set))"
      ],
      "execution_count": null,
      "outputs": [
        {
          "output_type": "stream",
          "name": "stdout",
          "text": [
            "convert list to set\n",
            "[1, 2, 3, 3]\n",
            "[1, 2, 3, 3] is of type <class 'list'>\n",
            "after converting list to set\n",
            "{1, 2, 3}\n",
            "{1, 2, 3} is of type <class 'set'>\n"
          ]
        }
      ]
    }
  ]
}