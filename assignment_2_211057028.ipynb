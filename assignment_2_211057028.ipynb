{
  "nbformat": 4,
  "nbformat_minor": 0,
  "metadata": {
    "colab": {
      "name": "assignment-2-211057028.ipynb",
      "provenance": [],
      "collapsed_sections": [],
      "authorship_tag": "ABX9TyOjTyLz0uPNa4pFmewhSmef",
      "include_colab_link": true
    },
    "kernelspec": {
      "name": "python3",
      "display_name": "Python 3"
    },
    "language_info": {
      "name": "python"
    }
  },
  "cells": [
    {
      "cell_type": "markdown",
      "metadata": {
        "id": "view-in-github",
        "colab_type": "text"
      },
      "source": [
        "<a href=\"https://colab.research.google.com/github/greeshmaanand1104/Python-MIT-Assignment/blob/master/assignment_2_211057028.ipynb\" target=\"_parent\"><img src=\"https://colab.research.google.com/assets/colab-badge.svg\" alt=\"Open In Colab\"/></a>"
      ]
    },
    {
      "cell_type": "code",
      "metadata": {
        "id": "urhbCAJBSD6w"
      },
      "source": [
        "#1\n",
        "\n",
        "\n",
        "#The main idea of this homework is to understand \n",
        "#split function\n",
        "#debug the program\n",
        "#looping and conditional constructs\n"
      ],
      "execution_count": null,
      "outputs": []
    },
    {
      "cell_type": "code",
      "metadata": {
        "colab": {
          "base_uri": "https://localhost:8080/"
        },
        "id": "0MQ0sqfxUy2l",
        "outputId": "631c1d49-5c81-44b0-a4f5-af713ff82468"
      },
      "source": [
        "#2\n",
        "# get the string from the user. convert the string into list\n",
        "#lots_of_spaces = 'hello        how        are      you?'\n",
        "#lots_of_comma = 'hello,how,are,you?\n",
        "'''hello        how        are      you?'''\n",
        "\n",
        "lots_of_comma = 'hello,how,are,you?'\n",
        "print(lots_of_comma.split(','))\n"
      ],
      "execution_count": null,
      "outputs": [
        {
          "output_type": "stream",
          "name": "stdout",
          "text": [
            "['hello', 'how', 'are', 'you?']\n"
          ]
        }
      ]
    },
    {
      "cell_type": "code",
      "metadata": {
        "id": "QXlVI41mXdrt"
      },
      "source": [
        "\n",
        "\n",
        "\n",
        "\n",
        "#3\n",
        "# Find the bug\n",
        "# calculate the 2 to the power of 5\n",
        "2 ^ 5\n",
        "# error here is ^ is used for bitwise XOR for power we need to use **\n"
      ],
      "execution_count": null,
      "outputs": []
    },
    {
      "cell_type": "code",
      "metadata": {
        "colab": {
          "base_uri": "https://localhost:8080/"
        },
        "id": "VsiEXD_NXsUz",
        "outputId": "a7f9c971-f0a5-4264-c74e-e29923ccbb03"
      },
      "source": [
        "#4\n",
        "# Develop Arithmetic calculator based on user choice the program should perform arithmetic operation (Any 7 opeations)\n",
        "print(\"type 'add' or 'sub' or 'mul' or 'div' or 'mod' or 'roundoff' or 'square' \")\n",
        "operation_id = input (\"enter opration to perform  \")\n",
        "x= operation_id\n",
        "a= 10\n",
        "b= 2\n",
        "if x==\"add\":\n",
        "  print (\"add\",a+b)\n",
        "elif x==\"sub\":\n",
        "  print (\"sub\",a-b)\n",
        "elif x==\"mul\":\n",
        "  print (\"mul\",a*b)\n",
        "elif x==\"div\":\n",
        "  print (\"div\",a/b)\n",
        "elif x==\"mod\":\n",
        "  print (\"mod\",a%b)\n",
        "elif x==\"roundoff\": \n",
        "  print (\"roundoff\",a//b)\n",
        "elif x==\"square\":\n",
        "  print (\"square\",a**b)\n",
        "\n",
        "  "
      ],
      "execution_count": null,
      "outputs": [
        {
          "output_type": "stream",
          "name": "stdout",
          "text": [
            "type 'add' or 'sub' or 'mul' or 'div' or 'mod' or 'roundoff' or 'square' \n",
            "enter opration to perform  square\n",
            "square 100\n"
          ]
        }
      ]
    },
    {
      "cell_type": "code",
      "metadata": {
        "colab": {
          "base_uri": "https://localhost:8080/"
        },
        "id": "9uS_zcCGtl-y",
        "outputId": "49f34148-74c4-44a4-b18c-6eda63f3ac5e"
      },
      "source": [
        "# Develop String Calculator based on user choice the program should perform string operations (Any 5 operations )\n",
        "print(\"type 'find' or 'count' or 'casefold' or 'capitalize' \")\n",
        "string_operation = input(\"enter the opration to be perform \")\n",
        "y= string_operation\n",
        "greet= \"hello world!\"\n",
        "print(greet)\n",
        "if y==\"find\":\n",
        "  print(greet.find('o'))\n",
        "elif y==\"count\":\n",
        "  print(greet.count('l'))\n",
        "elif y==\"casefold\":\n",
        "  print(greet.casefold())\n",
        "elif y==\"capitalize\":\n",
        "  print(greet.capitalize())\n"
      ],
      "execution_count": null,
      "outputs": [
        {
          "output_type": "stream",
          "name": "stdout",
          "text": [
            "type 'find' or 'count' or 'casefold' or 'capitalize' \n",
            "enter the opration to be perform count\n",
            "hello world!\n",
            "3\n"
          ]
        }
      ]
    },
    {
      "cell_type": "code",
      "metadata": {
        "colab": {
          "base_uri": "https://localhost:8080/"
        },
        "id": "fmz4QHohwXLy",
        "outputId": "d9865770-ba81-4f5e-9b56-a5cbcf87c284"
      },
      "source": [
        "# Write a program to prompt the user for hours and rate per hour to compute gross pay.\n",
        "# Take into account that the university gives the employee 2.5 times the hourly rate for hours worked above 50 hours.\n",
        "hrs = input(\"Enter Hours:\")\n",
        "h = float(hrs)\n",
        "xx = print(\"assuming the rate is 10:\")\n",
        "x = 10\n",
        "if h <= 50:\n",
        " \tprint( h  * x)\n",
        "elif h > 50:\n",
        "\tprint(50* x + (h-50)*2.5*x)\n"
      ],
      "execution_count": null,
      "outputs": [
        {
          "output_type": "stream",
          "name": "stdout",
          "text": [
            "Enter Hours:45\n",
            "assuming the rate is 10:\n",
            "450.0\n"
          ]
        }
      ]
    },
    {
      "cell_type": "code",
      "metadata": {
        "colab": {
          "base_uri": "https://localhost:8080/"
        },
        "id": "y18ASeQMy17b",
        "outputId": "88101ced-d1ff-473a-f7d4-4b8e4fa854c1"
      },
      "source": [
        "# Create a list called hobbies. Create a for loop that prompts the user for a hobby 3 times, then appends each one to hobbies in the list\n",
        "# Hint 1 : List \n",
        "# Hint 2 : append \n",
        "hobbies = []\n",
        "for i in range(3):\n",
        "   hobby=input(\"Enter hobby:\")\n",
        "   hobbies.append(hobby)\n",
        "print (hobbies)\n"
      ],
      "execution_count": null,
      "outputs": [
        {
          "output_type": "stream",
          "name": "stdout",
          "text": [
            "Enter hobby:art\n",
            "Enter hobby:art\n",
            "Enter hobby:art\n",
            "['art', 'art', 'art']\n"
          ]
        }
      ]
    },
    {
      "cell_type": "code",
      "metadata": {
        "colab": {
          "base_uri": "https://localhost:8080/"
        },
        "id": "dAE4YjFw3AGR",
        "outputId": "eff8c0e9-766b-412d-8dab-18b89d5885f5"
      },
      "source": [
        "# Write a Python program to check whether the given integer is a multiple of both 5 and 7 . \n",
        "print(\"numbers which are multiple of both 7 and 5but within 500 re given below :\")\n",
        "print(\"\\n\")\n",
        "nl=[]\n",
        "for x in range(1, 500):\n",
        "    if (x%7==0) and (x%5==0):\n",
        "        nl.append(str(x))\n",
        "print (','.join(nl))\n",
        "\t# if number divisible by 7 and 5\n",
        "\t#if cnt % 7 == 0 and cnt % 5 == 0:\n",
        "\t#\tprint(cnt, \" is divisible by 7 and 5.\")\n",
        "\t\t\n",
        "\t# increment counter\n",
        "\t#cnt += 1\n"
      ],
      "execution_count": null,
      "outputs": [
        {
          "output_type": "stream",
          "name": "stdout",
          "text": [
            "numbers which are multiple of both 7 and 5but within 500 re given below :\n",
            "\n",
            "\n",
            "35,70,105,140,175,210,245,280,315,350,385,420,455,490\n"
          ]
        }
      ]
    },
    {
      "cell_type": "code",
      "metadata": {
        "colab": {
          "base_uri": "https://localhost:8080/",
          "height": 128
        },
        "id": "Rutr2RvO4i8y",
        "outputId": "fb4fff17-980b-4400-89e9-fc5c047c022f"
      },
      "source": [
        "# Find the error and correct the mistakes \n",
        "# the main idea of this code is to print the data from the dictionary (Data structure)\n",
        "\n",
        "phone_book = {\n",
        "'John' : [ '8592970000', 'john@xyzmail.com', 'Humpi' ],\n",
        "'Bob': [ '7994880000', 'bob@xyzmail.com','Manipal' ],\n",
        "'Tom' : [ '9749552647' , 'tom@xyzmail.com','Udupi' ] #closing brackets missing\n",
        "\n",
        "for k,v in phone_book.items() #syntax error- k,v not define\n",
        "print(k, \":\", v)"
      ],
      "execution_count": null,
      "outputs": [
        {
          "output_type": "error",
          "ename": "SyntaxError",
          "evalue": "ignored",
          "traceback": [
            "\u001b[0;36m  File \u001b[0;32m\"<ipython-input-60-2f8b14b444fa>\"\u001b[0;36m, line \u001b[0;32m9\u001b[0m\n\u001b[0;31m    for k,v in phone_book.items() #syntax error-\u001b[0m\n\u001b[0m                                                ^\u001b[0m\n\u001b[0;31mSyntaxError\u001b[0m\u001b[0;31m:\u001b[0m invalid syntax\n"
          ]
        }
      ]
    },
    {
      "cell_type": "code",
      "metadata": {
        "colab": {
          "base_uri": "https://localhost:8080/"
        },
        "id": "0mt86YCf6r4a",
        "outputId": "d1332971-f640-4882-ba28-ba4e2d5b660a"
      },
      "source": [
        "# Find the bug \n",
        "# print all the numbers between 2 and 8 \n",
        "\n",
        "#list = [x for i in range(10) if (x < 8) and (x > 2) ]\n",
        "#print(list)\n",
        "\n",
        "f = 2\n",
        "l= 8\n",
        "  \n",
        "for list in range(f + 1, l - 1):\n",
        "    print(list)"
      ],
      "execution_count": null,
      "outputs": [
        {
          "output_type": "stream",
          "name": "stdout",
          "text": [
            "3\n",
            "4\n",
            "5\n",
            "6\n"
          ]
        }
      ]
    },
    {
      "cell_type": "code",
      "metadata": {
        "colab": {
          "base_uri": "https://localhost:8080/",
          "height": 128
        },
        "id": "WRAMlAkq8r4D",
        "outputId": "f4f0732a-1f8c-4822-d7cf-19960285de57"
      },
      "source": [
        "# find the bug\n",
        "# Suppose you are trying to compute a signal-to-noise ratio in\n",
        "# decibels. The formula is SNRdb = 10log10(Psignal /Pnoise).\n",
        "\n",
        "import math\n",
        "signal_power = 9\n",
        "noise_power = 10\n",
        "ratio = (signal_power // noise_power)\n",
        "print(ratio)\n",
        "decibels = 10 * math.log10(ratio) #intentation error\n",
        "  print (decibels)"
      ],
      "execution_count": null,
      "outputs": [
        {
          "output_type": "error",
          "ename": "IndentationError",
          "evalue": "ignored",
          "traceback": [
            "\u001b[0;36m  File \u001b[0;32m\"<ipython-input-11-3c146536befc>\"\u001b[0;36m, line \u001b[0;32m11\u001b[0m\n\u001b[0;31m    print (decibels)\u001b[0m\n\u001b[0m    ^\u001b[0m\n\u001b[0;31mIndentationError\u001b[0m\u001b[0;31m:\u001b[0m unexpected indent\n"
          ]
        }
      ]
    },
    {
      "cell_type": "code",
      "metadata": {
        "colab": {
          "base_uri": "https://localhost:8080/"
        },
        "id": "K_TO4p8GWEmH",
        "outputId": "856d4a3f-4f09-4c67-df18-d71440828989"
      },
      "source": [
        "# Check whether the number is present in the list or not \n",
        "list = [1, 2, 3, 4, 5 ]\n",
        "print(\"Checking if 4 exists in list ( using loop ) : \")\n",
        "# in is used to check whether the member is present or not \n",
        "for i in list:\n",
        "\tif(i == 4) :\n",
        "\t\tprint (\"Element Exists\")\n",
        "\n",
        "print(\"Checking if 4 exists in list ( using in ) : \")\n",
        "if (4 in list):\n",
        "\tprint (\"Element Exists\")\n"
      ],
      "execution_count": null,
      "outputs": [
        {
          "output_type": "stream",
          "name": "stdout",
          "text": [
            "Checking if 4 exists in list ( using loop ) : \n",
            "Element Exists\n",
            "Checking if 4 exists in list ( using in ) : \n",
            "Element Exists\n"
          ]
        }
      ]
    },
    {
      "cell_type": "code",
      "metadata": {
        "colab": {
          "base_uri": "https://localhost:8080/",
          "height": 128
        },
        "id": "PMAU1rvUXJUB",
        "outputId": "424f7549-824f-40ca-f0ab-0b9009e8ccfc"
      },
      "source": [
        "# check whether the number is same or not \n",
        "# use of identity opeartor is \n",
        "# find the bug \n",
        "\n",
        "a=10\n",
        "b=20 \n",
        "if ( a is not b )# syntax need to use \": symbol\" at the end of if condition\n",
        "print (\" and b do not have same identity\") # intentation erro\n",
        "else # syntax error\n",
        "print (\"a and b have same identity\")# intentation error"
      ],
      "execution_count": null,
      "outputs": [
        {
          "output_type": "error",
          "ename": "IndentationError",
          "evalue": "ignored",
          "traceback": [
            "\u001b[0;36m  File \u001b[0;32m\"<ipython-input-19-b5e969384db3>\"\u001b[0;36m, line \u001b[0;32m8\u001b[0m\n\u001b[0;31m    print (\" and b do not have same identity\")\u001b[0m\n\u001b[0m        ^\u001b[0m\n\u001b[0;31mIndentationError\u001b[0m\u001b[0;31m:\u001b[0m expected an indented block\n"
          ]
        }
      ]
    },
    {
      "cell_type": "code",
      "metadata": {
        "colab": {
          "base_uri": "https://localhost:8080/",
          "height": 128
        },
        "id": "IYFrBmZwXoMT",
        "outputId": "d00d2cef-1d38-48f9-d12a-27a2064cbd38"
      },
      "source": [
        "# Find the bug \n",
        "\n",
        "# Prints out 0,1,2,3,4 using while loop\n",
        "count = 0\n",
        "while True:\n",
        "    print(count)\n",
        "    count ++ # syntax need to be count+=1\n",
        "    if count >= 5:\n",
        "    break"
      ],
      "execution_count": null,
      "outputs": [
        {
          "output_type": "error",
          "ename": "SyntaxError",
          "evalue": "ignored",
          "traceback": [
            "\u001b[0;36m  File \u001b[0;32m\"<ipython-input-20-6bb0cc628fc2>\"\u001b[0;36m, line \u001b[0;32m7\u001b[0m\n\u001b[0;31m    count ++\u001b[0m\n\u001b[0m            ^\u001b[0m\n\u001b[0;31mSyntaxError\u001b[0m\u001b[0;31m:\u001b[0m invalid syntax\n"
          ]
        }
      ]
    },
    {
      "cell_type": "code",
      "metadata": {
        "colab": {
          "base_uri": "https://localhost:8080/",
          "height": 128
        },
        "id": "bKQbRtQ6Xz4s",
        "outputId": "483dd9d0-e5a7-4d0d-9160-6e9f16625bfa"
      },
      "source": [
        "# Prints out only even numbers - 2,4,6,8,10 using for loop and continue\n",
        "# find the bug \n",
        "\n",
        "for x in range(10):\n",
        "    # Check if x is even\n",
        "    if not X % 2 = 0:# syntax error and wrong variable as it is case sensative\n",
        "        continue\n",
        "    print(x)"
      ],
      "execution_count": null,
      "outputs": [
        {
          "output_type": "error",
          "ename": "SyntaxError",
          "evalue": "ignored",
          "traceback": [
            "\u001b[0;36m  File \u001b[0;32m\"<ipython-input-21-142001ebc40f>\"\u001b[0;36m, line \u001b[0;32m6\u001b[0m\n\u001b[0;31m    if not X % 2 = 0:\u001b[0m\n\u001b[0m                 ^\u001b[0m\n\u001b[0;31mSyntaxError\u001b[0m\u001b[0;31m:\u001b[0m invalid syntax\n"
          ]
        }
      ]
    },
    {
      "cell_type": "code",
      "metadata": {
        "colab": {
          "base_uri": "https://localhost:8080/",
          "height": 128
        },
        "id": "48Tq-S8PYKCp",
        "outputId": "cfabbf30-705d-47a9-e3f5-de520a8b6e1f"
      },
      "source": [
        "# Printing even and odd numbers using for loop and ternary operator\n",
        "# find the bug \n",
        "\n",
        "for i in range(10)# intalisation not done\n",
        "    print(str(x) + \" is even number\") if(x % 2 == 0) else print(str(i) + \" is odd number\")# syntax error"
      ],
      "execution_count": null,
      "outputs": [
        {
          "output_type": "error",
          "ename": "SyntaxError",
          "evalue": "ignored",
          "traceback": [
            "\u001b[0;36m  File \u001b[0;32m\"<ipython-input-23-cb30a2b48e46>\"\u001b[0;36m, line \u001b[0;32m4\u001b[0m\n\u001b[0;31m    for i in range(10)\u001b[0m\n\u001b[0m                      ^\u001b[0m\n\u001b[0;31mSyntaxError\u001b[0m\u001b[0;31m:\u001b[0m invalid syntax\n"
          ]
        }
      ]
    },
    {
      "cell_type": "code",
      "metadata": {
        "colab": {
          "base_uri": "https://localhost:8080/"
        },
        "id": "Gz5FominYed1",
        "outputId": "3de4981d-d4d0-4fa5-f11a-122f9ea18a08"
      },
      "source": [
        "# Write a program which will find all such numbers which are divisible by 7 but are not a multiple of 5,\n",
        "#between 5 and 4570 (both included).\n",
        "print(\"numbers which are multiple of both 7 and 5but within 500 re given below :\")\n",
        "print(\"\\n\")\n",
        "nl=[]\n",
        "for x in range(5, 4570):\n",
        "    if (x%7==0) and (x%5==0):\n",
        "        nl.append(str(x))\n",
        "print (','.join(nl))\n"
      ],
      "execution_count": null,
      "outputs": [
        {
          "output_type": "stream",
          "name": "stdout",
          "text": [
            "numbers which are multiple of both 7 and 5but within 500 re given below :\n",
            "\n",
            "\n",
            "35,70,105,140,175,210,245,280,315,350,385,420,455,490,525,560,595,630,665,700,735,770,805,840,875,910,945,980,1015,1050,1085,1120,1155,1190,1225,1260,1295,1330,1365,1400,1435,1470,1505,1540,1575,1610,1645,1680,1715,1750,1785,1820,1855,1890,1925,1960,1995,2030,2065,2100,2135,2170,2205,2240,2275,2310,2345,2380,2415,2450,2485,2520,2555,2590,2625,2660,2695,2730,2765,2800,2835,2870,2905,2940,2975,3010,3045,3080,3115,3150,3185,3220,3255,3290,3325,3360,3395,3430,3465,3500,3535,3570,3605,3640,3675,3710,3745,3780,3815,3850,3885,3920,3955,3990,4025,4060,4095,4130,4165,4200,4235,4270,4305,4340,4375,4410,4445,4480,4515,4550\n"
          ]
        }
      ]
    },
    {
      "cell_type": "code",
      "metadata": {
        "id": "wIbjoeb6Y-nY",
        "colab": {
          "base_uri": "https://localhost:8080/",
          "height": 132
        },
        "outputId": "52371a8e-2318-46ff-b7e4-b2d813c86694"
      },
      "source": [
        "pizza = (‘base’, ‘sauce’, ‘cheese’, ‘mushroom’);\n",
        "pizza[3] = ‘jalapeno’"
      ],
      "execution_count": null,
      "outputs": [
        {
          "output_type": "error",
          "ename": "SyntaxError",
          "evalue": "ignored",
          "traceback": [
            "\u001b[0;36m  File \u001b[0;32m\"<ipython-input-1-cc99e7d1d51d>\"\u001b[0;36m, line \u001b[0;32m1\u001b[0m\n\u001b[0;31m    pizza = (‘base’, ‘sauce’, ‘cheese’, ‘mushroom’);\u001b[0m\n\u001b[0m                  ^\u001b[0m\n\u001b[0;31mSyntaxError\u001b[0m\u001b[0;31m:\u001b[0m invalid character in identifier\n"
          ]
        }
      ]
    }
  ]
}