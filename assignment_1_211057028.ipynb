{
  "nbformat": 4,
  "nbformat_minor": 0,
  "metadata": {
    "colab": {
      "name": "assignment-1-211057028.ipynb",
      "provenance": [],
      "collapsed_sections": [],
      "authorship_tag": "ABX9TyPvXzaBClTnCC5yFXL6xXF/",
      "include_colab_link": true
    },
    "kernelspec": {
      "name": "python3",
      "display_name": "Python 3"
    },
    "language_info": {
      "name": "python"
    }
  },
  "cells": [
    {
      "cell_type": "markdown",
      "metadata": {
        "id": "view-in-github",
        "colab_type": "text"
      },
      "source": [
        "<a href=\"https://colab.research.google.com/github/greeshmaanand1104/coursera-test/blob/master/assignment_1_211057028.ipynb\" target=\"_parent\"><img src=\"https://colab.research.google.com/assets/colab-badge.svg\" alt=\"Open In Colab\"/></a>"
      ]
    },
    {
      "cell_type": "code",
      "metadata": {
        "colab": {
          "base_uri": "https://localhost:8080/"
        },
        "id": "qEvRivZKp5AE",
        "outputId": "5c712307-94b5-4daa-d471-6fad039fd400"
      },
      "source": [
        "#print your name and hobbies and registration number\n",
        "\n",
        "name= \"Greeshma A\"\n",
        "hobbies= ['swimming', 'basketball', 'running']\n",
        "regis_no= 211057028\n",
        "print(name)\n",
        "for i in hobbies:\n",
        "  print (i)\n",
        "print(regis_no)"
      ],
      "execution_count": null,
      "outputs": [
        {
          "output_type": "stream",
          "name": "stdout",
          "text": [
            "Greeshma A\n",
            "swimming\n",
            "basketball\n",
            "running\n",
            "211057028\n"
          ]
        }
      ]
    },
    {
      "cell_type": "code",
      "metadata": {
        "colab": {
          "base_uri": "https://localhost:8080/"
        },
        "id": "vdQVMybUuR_Q",
        "outputId": "a99776de-e613-46bd-9cd7-e736eb7b766a"
      },
      "source": [
        "# how to get more information about print functions\n",
        "# how to get more infromation about math module\n",
        "# how to get more information about symbols\n",
        "help()\n"
      ],
      "execution_count": null,
      "outputs": [
        {
          "output_type": "stream",
          "name": "stdout",
          "text": [
            "\n",
            "You are now leaving help and returning to the Python interpreter.\n",
            "If you want to ask for help on a particular object directly from the\n",
            "interpreter, you can type \"help(object)\".  Executing \"help('string')\"\n",
            "has the same effect as typing a particular string at the help> prompt.\n"
          ]
        }
      ]
    },
    {
      "cell_type": "code",
      "metadata": {
        "colab": {
          "base_uri": "https://localhost:8080/"
        },
        "id": "KwBkZUcSuckH",
        "outputId": "800685da-d055-4e0f-807b-294a49fb12e5"
      },
      "source": [
        "# store your role model name in the variable\n",
        "# describe your role model in the variable\n",
        "# store the numeric value in the variable\n",
        "\n",
        "role= \"Steve Shirley\" \n",
        "role_model= \"\"\"Starting with Sue Black’s own example, Dame Stephanie ‘Steve’ Shirley arrived in the UK as a child refugee of the Kindertransport in 1939 and went on to found her own software company, Freelance Programmers, in 1962. She adopted the name ‘Steve’ to help her in the male-dominated business world, having found that company letters using her real name were not responded to.\n",
        "While planning to start a family, she decided to create part-time job opportunities for women with children, and almost exclusively employed women until the Sex Discrimination Act of 1975 made this illegal. Among her team’s projects was Concorde’s black box flight recorder.\n",
        "\n",
        "Shirley retired in 1993 and has since focused on her philanthropy, having set up The Shirley Foundation in 1986, which aims to support medical research in the field of autism spectrum disorders, and is now among the top-50 grant-giving foundations in the UK.\n",
        "\n",
        "Amongst other honors, Shirley was appointed an OBE (Officer of the Order of the British Empire) in 1980 for her services to industry, and was also the first female President of the chartered British Computer Society, as well as the UK’s Ambassador for Philanthropy in 2009.\"\"\"\n",
        "print (role)\n",
        "print(role_model)\n"
      ],
      "execution_count": null,
      "outputs": [
        {
          "output_type": "stream",
          "name": "stdout",
          "text": [
            "Steve Shirley\n",
            "Starting with Sue Black’s own example, Dame Stephanie ‘Steve’ Shirley arrived in the UK as a child refugee of the Kindertransport in 1939 and went on to found her own software company, Freelance Programmers, in 1962. She adopted the name ‘Steve’ to help her in the male-dominated business world, having found that company letters using her real name were not responded to.\n",
            "While planning to start a family, she decided to create part-time job opportunities for women with children, and almost exclusively employed women until the Sex Discrimination Act of 1975 made this illegal. Among her team’s projects was Concorde’s black box flight recorder.\n",
            "\n",
            "Shirley retired in 1993 and has since focused on her philanthropy, having set up The Shirley Foundation in 1986, which aims to support medical research in the field of autism spectrum disorders, and is now among the top-50 grant-giving foundations in the UK.\n",
            "\n",
            "Amongst other honors, Shirley was appointed an OBE (Officer of the Order of the British Empire) in 1980 for her services to industry, and was also the first female President of the chartered British Computer Society, as well as the UK’s Ambassador for Philanthropy in 2009.\n"
          ]
        }
      ]
    },
    {
      "cell_type": "code",
      "metadata": {
        "colab": {
          "base_uri": "https://localhost:8080/"
        },
        "id": "IdBOKiD3xKlv",
        "outputId": "a6a70966-1700-43f1-be99-7487d636c7d2"
      },
      "source": [
        "# store the numeric value in the variable\n",
        "numeric_variable = int(input (\"enter numeric variable\"))\n",
        "print(type(numeric_variable))\n"
      ],
      "execution_count": null,
      "outputs": [
        {
          "output_type": "stream",
          "name": "stdout",
          "text": [
            "enter numeric variable12345\n",
            "<class 'int'>\n"
          ]
        }
      ]
    },
    {
      "cell_type": "code",
      "metadata": {
        "colab": {
          "base_uri": "https://localhost:8080/"
        },
        "id": "t4WYpEqCwVCo",
        "outputId": "cddbde3e-6b5b-4059-c1b4-96d4d65bd3a2"
      },
      "source": [
        "# you can perform arithemetic opeartions using python arithmetic opeartors\n",
        "#integer operation for whole number\n",
        "a = 4\n",
        "b = 3\n",
        "print (\"add\",a+b)\n",
        "print (\"sum\",a-b)\n",
        "print (\"mul\",a*b)\n",
        "print (\"mod\",a%b)\n",
        "# / is used to div a number without rounding off(float number)\n",
        "print (\"div\",a/b)\n",
        "#// is used to round off the operator (whole no)\n",
        "print (\"div\",a//b)\n",
        "print (\"exp\",a**b)\n",
        "print (\"exp\",a^b)\n"
      ],
      "execution_count": null,
      "outputs": [
        {
          "output_type": "stream",
          "name": "stdout",
          "text": [
            "add 7\n",
            "sum 1\n",
            "mul 12\n",
            "mod 1\n",
            "div 1.3333333333333333\n",
            "div 1\n",
            "exp 64\n",
            "exp 7\n"
          ]
        }
      ]
    },
    {
      "cell_type": "code",
      "metadata": {
        "colab": {
          "base_uri": "https://localhost:8080/"
        },
        "id": "0XyirGgjxBCY",
        "outputId": "a0551276-2eb2-46cd-ec8a-9526403b7482"
      },
      "source": [
        "#integer operation for float number\n",
        "a = 4.3\n",
        "b = 3.2\n",
        "print (\"add\",a+b)\n",
        "print (\"sum\",a-b)\n",
        "print (\"mul\",a*b)\n",
        "print (\"mod\",a%b)\n",
        "# / is used to div a number without rounding off(float number)\n",
        "print (\"div\",a/b)\n",
        "#// is used to round off the operator (whole no)\n",
        "print (\"div\",a//b)\n",
        "print (\"exp\",a**b)\n"
      ],
      "execution_count": null,
      "outputs": [
        {
          "output_type": "stream",
          "name": "stdout",
          "text": [
            "add 7.5\n",
            "sum 1.0999999999999996\n",
            "mul 13.76\n",
            "mod 1.0999999999999996\n",
            "div 1.3437499999999998\n",
            "div 1.0\n",
            "exp 106.4385765372614\n"
          ]
        }
      ]
    },
    {
      "cell_type": "code",
      "metadata": {
        "colab": {
          "base_uri": "https://localhost:8080/"
        },
        "id": "dPpZvSXFx7GG",
        "outputId": "5fe7b69b-b7ec-426f-fcad-e87d233a803d"
      },
      "source": [
        "# If your run a 1000 Kilo Meter race in 143 minutes 30 seconds, what is your average time per mile? What is your average speed in miles per hour?\n",
        "# Hint : 1.61 kilometers in a mile\n",
        "dist_in_km= 1000\n",
        "dist_in_miles= (dist_in_km * (1.0/1.61))\n",
        "sec = ((143.0*60.0)+30)\n",
        "hours=(143.5/60.0)\n",
        "time_per_mile= sec/dist_in_miles\n",
        "avg_speed= dist_in_miles/hours\n",
        "print (time_per_mile)\n",
        "print (avg_speed)\n"
      ],
      "execution_count": null,
      "outputs": [
        {
          "output_type": "stream",
          "name": "stdout",
          "text": [
            "13.862100000000002\n",
            "259.70091111736315\n"
          ]
        }
      ]
    },
    {
      "cell_type": "code",
      "metadata": {
        "colab": {
          "base_uri": "https://localhost:8080/"
        },
        "id": "ZGRW6SI5zaUB",
        "outputId": "74ec1210-d405-4c0a-dc07-4ba5cb8fdb13"
      },
      "source": [
        "#Suppose the cover price of a python book  is  577.95, but bookstores get a 40% discount.\n",
        "orignal_price= 577.95\n",
        "discount= 40/100\n",
        "discout_price=orignal_price- (orignal_price * discount)\n",
        "print (discout_price)\n",
        "# Shipping costs  150 for the first copy and 50 Rupees for each additional copy. What is the total wholesale cost for 60 copies?\n",
        "book = int(input (\"enter number of books needed\"))\n",
        "print(book)\n",
        "if book == 1:\n",
        "  book_cost= discout_price+150\n",
        "  print(\"cost of book is\")\n",
        "  print(book_cost)\n",
        "else:\n",
        "  more_books= discout_price*50+150\n",
        "  print(\"book price+ shipping price for required books \")\n",
        "  print(more_books)"
      ],
      "execution_count": null,
      "outputs": [
        {
          "output_type": "stream",
          "name": "stdout",
          "text": [
            "346.77\n",
            "enter number of books needed1\n",
            "1\n",
            "cost of book is\n",
            "496.77\n"
          ]
        }
      ]
    },
    {
      "cell_type": "code",
      "metadata": {
        "colab": {
          "base_uri": "https://localhost:8080/"
        },
        "id": "Oz5qKyDh6K_L",
        "outputId": "2e8e50c2-0c5a-49fb-9d93-c3373bce5baf"
      },
      "source": [
        "#write a python code to convert Centrigrade to Fahrenheit , get the value Centrigrade from the user\n",
        "# Sample Input:\n",
        "# Enter Centrigrade:  23.5\n",
        "\n",
        "centigrade_input = float(input (\"enter the centrigrade as input  \"))\n",
        "print(centigrade_input)\n",
        "Fahrenheit= ((centigrade_input * 1.8) + 32)\n",
        "print(Fahrenheit)\n",
        "print(\"is convert to Fahrenheit\")"
      ],
      "execution_count": null,
      "outputs": [
        {
          "output_type": "stream",
          "name": "stdout",
          "text": [
            "enter the centrigrade as input  23.5\n",
            "23.5\n",
            "74.30000000000001\n",
            "is convert to Fahrenheit\n"
          ]
        }
      ]
    },
    {
      "cell_type": "code",
      "metadata": {
        "colab": {
          "base_uri": "https://localhost:8080/"
        },
        "id": "4ztnTOnV71zM",
        "outputId": "3ba92164-0f63-484c-806f-8ec3ffd06129"
      },
      "source": [
        " #write a python code to convert Fahrenheit to Centrigrade, get the value Fahreheit from the user\n",
        "#Enter Fahreheit:  23.5\n",
        "fahrenheit_ip = float(input(\"enter the fahrenheit as input\"))\n",
        "print(fahrenheit_ip)\n",
        "celsus= ((fahrenheit_ip-32) * 0.5556)\n",
        "print (celsus)"
      ],
      "execution_count": null,
      "outputs": [
        {
          "output_type": "stream",
          "name": "stdout",
          "text": [
            "enter the fahrenheit as input23.5\n",
            "23.5\n",
            "-4.7226\n"
          ]
        }
      ]
    },
    {
      "cell_type": "code",
      "metadata": {
        "colab": {
          "base_uri": "https://localhost:8080/"
        },
        "id": "2Esrp5Bl8ys0",
        "outputId": "72108b84-4b5d-4382-8478-a07e08f7d391"
      },
      "source": [
        "# create a variable called my_neg to store  negative value\n",
        "# create a variable called my_float to store float value\n",
        "# create a variable called my_complex to store complex value\n",
        "# Note: there a various method to create complex numbers\n",
        "# perform mathematical operations on complex numbers\n",
        "\n",
        "my_neg = -10\n",
        "print(my_neg)\n",
        "my_float= 123.456\n",
        "print(my_float)\n",
        "my_complex= 2 + 3j\n",
        "\n",
        "my_complex1= 3 + 4j\n",
        "print (\"add\",my_complex+my_complex1)\n",
        "print (\"sum\",my_complex-my_complex1)\n",
        "print (\"mul\",my_complex*my_complex1)"
      ],
      "execution_count": null,
      "outputs": [
        {
          "output_type": "stream",
          "name": "stdout",
          "text": [
            "add (5+7j)\n",
            "sum (-1-1j)\n",
            "mul (-6+17j)\n"
          ]
        }
      ]
    },
    {
      "cell_type": "code",
      "metadata": {
        "colab": {
          "base_uri": "https://localhost:8080/",
          "height": 129
        },
        "id": "lyeRD2zc8wRd",
        "outputId": "802be75c-b583-4dc6-e4e7-5d8c6f18c4fd"
      },
      "source": [
        "# create a variable called break and assign it a value of 15. what is the response and find the reason behind the behaviour.\n",
        "break = 15\n",
        "syntax error, because its a keyword"
      ],
      "execution_count": null,
      "outputs": [
        {
          "output_type": "error",
          "ename": "SyntaxError",
          "evalue": "ignored",
          "traceback": [
            "\u001b[0;36m  File \u001b[0;32m\"<ipython-input-3-ceca528bf3e1>\"\u001b[0;36m, line \u001b[0;32m2\u001b[0m\n\u001b[0;31m    break = 15\u001b[0m\n\u001b[0m          ^\u001b[0m\n\u001b[0;31mSyntaxError\u001b[0m\u001b[0;31m:\u001b[0m invalid syntax\n"
          ]
        }
      ]
    },
    {
      "cell_type": "code",
      "metadata": {
        "colab": {
          "base_uri": "https://localhost:8080/"
        },
        "id": "6LUvJr6_Ccf2",
        "outputId": "2197e867-7a97-461f-857d-8ffd6a934b5a"
      },
      "source": [
        "#source\": [\n",
        "        #\"result =\\\"hello world\\\"\\n\",\n",
        "        #\"print \\\"result[0]\\\"\"\n",
        "result = \"hello world\"\n",
        "print(result[0])"
      ],
      "execution_count": null,
      "outputs": [
        {
          "output_type": "stream",
          "name": "stdout",
          "text": [
            "h\n"
          ]
        }
      ]
    },
    {
      "cell_type": "code",
      "metadata": {
        "colab": {
          "base_uri": "https://localhost:8080/"
        },
        "id": "F5PFZemsDAlV",
        "outputId": "1ad3874c-cbd9-4117-a78e-be4dea4b2a30"
      },
      "source": [
        "#Write a program to get the name of the guest , then greet the user using their name as part of greeting\n",
        "name = input (\"enter the guest name\")\n",
        "print (\"I am extremly hounor to welcome\", name, \"to.........\")"
      ],
      "execution_count": null,
      "outputs": [
        {
          "output_type": "stream",
          "name": "stdout",
          "text": [
            "enter the guest namesudha\n",
            "I am extremly hounor to welcome sudha to.........\n"
          ]
        }
      ]
    },
    {
      "cell_type": "code",
      "metadata": {
        "colab": {
          "base_uri": "https://localhost:8080/"
        },
        "id": "ZvhbL74hD7I2",
        "outputId": "13682f37-2bc3-4c5e-9257-fb10634fc904"
      },
      "source": [
        "# count the total number of characters in the variable quotes \n",
        "# convert the smaller case to upper case, upper case to smaller case\n",
        "# check whether the numeric value is present or not\n",
        "# Check whether the word \\\"harvest\\\" present in the string or not\n",
        "# replace the (.) with (!)\n",
        "\n",
        "greet= \"Don't judge each day by the harvest you reap but by the seeds that you plant.\"\n",
        "char_count = 0\n",
        "for i in greet:\n",
        "  if(i!=' '):\n",
        "    char_count +=1\n",
        "print(char_count)\n",
        "print (greet.count('a'))\n",
        "print (greet.upper())\n",
        "print (greet.lower())\n",
        "search = 'harvest'\n",
        "word =greet.split()\n",
        "if search in word:\n",
        "  print('yes')\n",
        "else:\n",
        "  print('no')\n",
        "\n",
        "print (greet.replace('.', '!'))\n"
      ],
      "execution_count": null,
      "outputs": [
        {
          "output_type": "stream",
          "name": "stdout",
          "text": [
            "62\n",
            "6\n",
            "DON'T JUDGE EACH DAY BY THE HARVEST YOU REAP BUT BY THE SEEDS THAT YOU PLANT.\n",
            "don't judge each day by the harvest you reap but by the seeds that you plant.\n",
            "yes\n",
            "Don't judge each day by the harvest you reap but by the seeds that you plant!\n"
          ]
        }
      ]
    },
    {
      "cell_type": "code",
      "metadata": {
        "id": "jJmh0wWktB3Z",
        "colab": {
          "base_uri": "https://localhost:8080/"
        },
        "outputId": "1077f8d0-67d9-4975-ab5d-f7d4947ce5db"
      },
      "source": [
        "# Explore any 5 string build-in functions which is not discussed in the class\n",
        "# provide with suitable examples \n",
        "greet= \"hello world\"\n",
        "print(greet.find('o'))\n",
        "print(greet.count('l'))\n",
        "print(greet.casefold())\n",
        "print(greet.capitalize())\n",
        "\n",
        "x = len(greet)\n",
        "print(x)\n"
      ],
      "execution_count": null,
      "outputs": [
        {
          "output_type": "stream",
          "name": "stdout",
          "text": [
            "4\n",
            "3\n",
            "hello world\n",
            "Hello world\n",
            "11\n"
          ]
        }
      ]
    },
    {
      "cell_type": "code",
      "metadata": {
        "colab": {
          "base_uri": "https://localhost:8080/",
          "height": 231
        },
        "id": "kGsDDjkc7ndc",
        "outputId": "ad709b19-e4ae-41c8-be03-2626b79766fd"
      },
      "source": [
        "num_int =55\n",
        "num_str =\"34\"\n",
        "int(num_str)\n",
        "total = num_int + num_str\n",
        "print (total)\n",
        "print (type(num_int))\n",
        "print (type(num_str))\n",
        "#TypeError is raised whenever an operation is performed on an incorrect/unsupported object type"
      ],
      "execution_count": null,
      "outputs": [
        {
          "output_type": "error",
          "ename": "TypeError",
          "evalue": "ignored",
          "traceback": [
            "\u001b[0;31m---------------------------------------------------------------------------\u001b[0m",
            "\u001b[0;31mTypeError\u001b[0m                                 Traceback (most recent call last)",
            "\u001b[0;32m<ipython-input-64-3295825519f9>\u001b[0m in \u001b[0;36m<module>\u001b[0;34m()\u001b[0m\n\u001b[1;32m      2\u001b[0m \u001b[0mnum_str\u001b[0m \u001b[0;34m=\u001b[0m\u001b[0;34m\"34\"\u001b[0m\u001b[0;34m\u001b[0m\u001b[0;34m\u001b[0m\u001b[0m\n\u001b[1;32m      3\u001b[0m \u001b[0mint\u001b[0m\u001b[0;34m(\u001b[0m\u001b[0mnum_str\u001b[0m\u001b[0;34m)\u001b[0m\u001b[0;34m\u001b[0m\u001b[0;34m\u001b[0m\u001b[0m\n\u001b[0;32m----> 4\u001b[0;31m \u001b[0mtotal\u001b[0m \u001b[0;34m=\u001b[0m \u001b[0mnum_int\u001b[0m \u001b[0;34m+\u001b[0m \u001b[0mnum_str\u001b[0m\u001b[0;34m\u001b[0m\u001b[0;34m\u001b[0m\u001b[0m\n\u001b[0m\u001b[1;32m      5\u001b[0m \u001b[0mprint\u001b[0m \u001b[0;34m(\u001b[0m\u001b[0mtotal\u001b[0m\u001b[0;34m)\u001b[0m\u001b[0;34m\u001b[0m\u001b[0;34m\u001b[0m\u001b[0m\n\u001b[1;32m      6\u001b[0m \u001b[0mprint\u001b[0m \u001b[0;34m(\u001b[0m\u001b[0mtype\u001b[0m\u001b[0;34m(\u001b[0m\u001b[0mnum_int\u001b[0m\u001b[0;34m)\u001b[0m\u001b[0;34m)\u001b[0m\u001b[0;34m\u001b[0m\u001b[0;34m\u001b[0m\u001b[0m\n",
            "\u001b[0;31mTypeError\u001b[0m: unsupported operand type(s) for +: 'int' and 'str'"
          ]
        }
      ]
    },
    {
      "cell_type": "code",
      "metadata": {
        "colab": {
          "base_uri": "https://localhost:8080/",
          "height": 527
        },
        "id": "_viNbZjD2cIc",
        "outputId": "4b787560-d6a9-4b99-a52b-f84c1cf0ad57"
      },
      "source": [
        "#Find potential sources of runtime errors in this code snippet:\n",
        "import math\n",
        "dividend = float(input(\"Please enter the dividend:\"))\n",
        "divisor = float(input(\"Please enter the divisor:\"))\n",
        "quotient = dividend / divisor\n",
        "quotient_rounded = math.round(quotient)\n",
        "\n",
        "# run time error, when coder enters 0 in divisor \n",
        "# no print statement used to print the output\n",
        "# math.round in 5th line, coder need to use \"quotient_rounded= round(quotient)\" "
      ],
      "execution_count": null,
      "outputs": [
        {
          "output_type": "error",
          "ename": "KeyboardInterrupt",
          "evalue": "ignored",
          "traceback": [
            "\u001b[0;31m---------------------------------------------------------------------------\u001b[0m",
            "\u001b[0;31mKeyboardInterrupt\u001b[0m                         Traceback (most recent call last)",
            "\u001b[0;32m/usr/local/lib/python3.7/dist-packages/ipykernel/kernelbase.py\u001b[0m in \u001b[0;36m_input_request\u001b[0;34m(self, prompt, ident, parent, password)\u001b[0m\n\u001b[1;32m    728\u001b[0m             \u001b[0;32mtry\u001b[0m\u001b[0;34m:\u001b[0m\u001b[0;34m\u001b[0m\u001b[0;34m\u001b[0m\u001b[0m\n\u001b[0;32m--> 729\u001b[0;31m                 \u001b[0mident\u001b[0m\u001b[0;34m,\u001b[0m \u001b[0mreply\u001b[0m \u001b[0;34m=\u001b[0m \u001b[0mself\u001b[0m\u001b[0;34m.\u001b[0m\u001b[0msession\u001b[0m\u001b[0;34m.\u001b[0m\u001b[0mrecv\u001b[0m\u001b[0;34m(\u001b[0m\u001b[0mself\u001b[0m\u001b[0;34m.\u001b[0m\u001b[0mstdin_socket\u001b[0m\u001b[0;34m,\u001b[0m \u001b[0;36m0\u001b[0m\u001b[0;34m)\u001b[0m\u001b[0;34m\u001b[0m\u001b[0;34m\u001b[0m\u001b[0m\n\u001b[0m\u001b[1;32m    730\u001b[0m             \u001b[0;32mexcept\u001b[0m \u001b[0mException\u001b[0m\u001b[0;34m:\u001b[0m\u001b[0;34m\u001b[0m\u001b[0;34m\u001b[0m\u001b[0m\n",
            "\u001b[0;32m/usr/local/lib/python3.7/dist-packages/jupyter_client/session.py\u001b[0m in \u001b[0;36mrecv\u001b[0;34m(self, socket, mode, content, copy)\u001b[0m\n\u001b[1;32m    802\u001b[0m         \u001b[0;32mtry\u001b[0m\u001b[0;34m:\u001b[0m\u001b[0;34m\u001b[0m\u001b[0;34m\u001b[0m\u001b[0m\n\u001b[0;32m--> 803\u001b[0;31m             \u001b[0mmsg_list\u001b[0m \u001b[0;34m=\u001b[0m \u001b[0msocket\u001b[0m\u001b[0;34m.\u001b[0m\u001b[0mrecv_multipart\u001b[0m\u001b[0;34m(\u001b[0m\u001b[0mmode\u001b[0m\u001b[0;34m,\u001b[0m \u001b[0mcopy\u001b[0m\u001b[0;34m=\u001b[0m\u001b[0mcopy\u001b[0m\u001b[0;34m)\u001b[0m\u001b[0;34m\u001b[0m\u001b[0;34m\u001b[0m\u001b[0m\n\u001b[0m\u001b[1;32m    804\u001b[0m         \u001b[0;32mexcept\u001b[0m \u001b[0mzmq\u001b[0m\u001b[0;34m.\u001b[0m\u001b[0mZMQError\u001b[0m \u001b[0;32mas\u001b[0m \u001b[0me\u001b[0m\u001b[0;34m:\u001b[0m\u001b[0;34m\u001b[0m\u001b[0;34m\u001b[0m\u001b[0m\n",
            "\u001b[0;32m/usr/local/lib/python3.7/dist-packages/zmq/sugar/socket.py\u001b[0m in \u001b[0;36mrecv_multipart\u001b[0;34m(self, flags, copy, track)\u001b[0m\n\u001b[1;32m    624\u001b[0m         \"\"\"\n\u001b[0;32m--> 625\u001b[0;31m         \u001b[0mparts\u001b[0m \u001b[0;34m=\u001b[0m \u001b[0;34m[\u001b[0m\u001b[0mself\u001b[0m\u001b[0;34m.\u001b[0m\u001b[0mrecv\u001b[0m\u001b[0;34m(\u001b[0m\u001b[0mflags\u001b[0m\u001b[0;34m,\u001b[0m \u001b[0mcopy\u001b[0m\u001b[0;34m=\u001b[0m\u001b[0mcopy\u001b[0m\u001b[0;34m,\u001b[0m \u001b[0mtrack\u001b[0m\u001b[0;34m=\u001b[0m\u001b[0mtrack\u001b[0m\u001b[0;34m)\u001b[0m\u001b[0;34m]\u001b[0m\u001b[0;34m\u001b[0m\u001b[0;34m\u001b[0m\u001b[0m\n\u001b[0m\u001b[1;32m    626\u001b[0m         \u001b[0;31m# have first part already, only loop while more to receive\u001b[0m\u001b[0;34m\u001b[0m\u001b[0;34m\u001b[0m\u001b[0;34m\u001b[0m\u001b[0m\n",
            "\u001b[0;32mzmq/backend/cython/socket.pyx\u001b[0m in \u001b[0;36mzmq.backend.cython.socket.Socket.recv\u001b[0;34m()\u001b[0m\n",
            "\u001b[0;32mzmq/backend/cython/socket.pyx\u001b[0m in \u001b[0;36mzmq.backend.cython.socket.Socket.recv\u001b[0;34m()\u001b[0m\n",
            "\u001b[0;32mzmq/backend/cython/socket.pyx\u001b[0m in \u001b[0;36mzmq.backend.cython.socket._recv_copy\u001b[0;34m()\u001b[0m\n",
            "\u001b[0;32m/usr/local/lib/python3.7/dist-packages/zmq/backend/cython/checkrc.pxd\u001b[0m in \u001b[0;36mzmq.backend.cython.checkrc._check_rc\u001b[0;34m()\u001b[0m\n",
            "\u001b[0;31mKeyboardInterrupt\u001b[0m: ",
            "\nDuring handling of the above exception, another exception occurred:\n",
            "\u001b[0;31mKeyboardInterrupt\u001b[0m                         Traceback (most recent call last)",
            "\u001b[0;32m<ipython-input-71-fc0f46ec2012>\u001b[0m in \u001b[0;36m<module>\u001b[0;34m()\u001b[0m\n\u001b[1;32m      1\u001b[0m \u001b[0;31m#Find potential sources of runtime errors in this code snippet:\u001b[0m\u001b[0;34m\u001b[0m\u001b[0;34m\u001b[0m\u001b[0;34m\u001b[0m\u001b[0m\n\u001b[1;32m      2\u001b[0m \u001b[0;32mimport\u001b[0m \u001b[0mmath\u001b[0m\u001b[0;34m\u001b[0m\u001b[0;34m\u001b[0m\u001b[0m\n\u001b[0;32m----> 3\u001b[0;31m \u001b[0mdividend\u001b[0m \u001b[0;34m=\u001b[0m \u001b[0mfloat\u001b[0m\u001b[0;34m(\u001b[0m\u001b[0minput\u001b[0m\u001b[0;34m(\u001b[0m\u001b[0;34m\"Please enter the dividend:\"\u001b[0m\u001b[0;34m)\u001b[0m\u001b[0;34m)\u001b[0m\u001b[0;34m\u001b[0m\u001b[0;34m\u001b[0m\u001b[0m\n\u001b[0m\u001b[1;32m      4\u001b[0m \u001b[0mdivisor\u001b[0m \u001b[0;34m=\u001b[0m \u001b[0mfloat\u001b[0m\u001b[0;34m(\u001b[0m\u001b[0minput\u001b[0m\u001b[0;34m(\u001b[0m\u001b[0;34m\"Please enter the divisor:\"\u001b[0m\u001b[0;34m)\u001b[0m\u001b[0;34m)\u001b[0m\u001b[0;34m\u001b[0m\u001b[0;34m\u001b[0m\u001b[0m\n\u001b[1;32m      5\u001b[0m \u001b[0mquotient\u001b[0m \u001b[0;34m=\u001b[0m \u001b[0mdividend\u001b[0m \u001b[0;34m/\u001b[0m \u001b[0mdivisor\u001b[0m\u001b[0;34m\u001b[0m\u001b[0;34m\u001b[0m\u001b[0m\n",
            "\u001b[0;32m/usr/local/lib/python3.7/dist-packages/ipykernel/kernelbase.py\u001b[0m in \u001b[0;36mraw_input\u001b[0;34m(self, prompt)\u001b[0m\n\u001b[1;32m    702\u001b[0m             \u001b[0mself\u001b[0m\u001b[0;34m.\u001b[0m\u001b[0m_parent_ident\u001b[0m\u001b[0;34m,\u001b[0m\u001b[0;34m\u001b[0m\u001b[0;34m\u001b[0m\u001b[0m\n\u001b[1;32m    703\u001b[0m             \u001b[0mself\u001b[0m\u001b[0;34m.\u001b[0m\u001b[0m_parent_header\u001b[0m\u001b[0;34m,\u001b[0m\u001b[0;34m\u001b[0m\u001b[0;34m\u001b[0m\u001b[0m\n\u001b[0;32m--> 704\u001b[0;31m             \u001b[0mpassword\u001b[0m\u001b[0;34m=\u001b[0m\u001b[0;32mFalse\u001b[0m\u001b[0;34m,\u001b[0m\u001b[0;34m\u001b[0m\u001b[0;34m\u001b[0m\u001b[0m\n\u001b[0m\u001b[1;32m    705\u001b[0m         )\n\u001b[1;32m    706\u001b[0m \u001b[0;34m\u001b[0m\u001b[0m\n",
            "\u001b[0;32m/usr/local/lib/python3.7/dist-packages/ipykernel/kernelbase.py\u001b[0m in \u001b[0;36m_input_request\u001b[0;34m(self, prompt, ident, parent, password)\u001b[0m\n\u001b[1;32m    732\u001b[0m             \u001b[0;32mexcept\u001b[0m \u001b[0mKeyboardInterrupt\u001b[0m\u001b[0;34m:\u001b[0m\u001b[0;34m\u001b[0m\u001b[0;34m\u001b[0m\u001b[0m\n\u001b[1;32m    733\u001b[0m                 \u001b[0;31m# re-raise KeyboardInterrupt, to truncate traceback\u001b[0m\u001b[0;34m\u001b[0m\u001b[0;34m\u001b[0m\u001b[0;34m\u001b[0m\u001b[0m\n\u001b[0;32m--> 734\u001b[0;31m                 \u001b[0;32mraise\u001b[0m \u001b[0mKeyboardInterrupt\u001b[0m\u001b[0;34m\u001b[0m\u001b[0;34m\u001b[0m\u001b[0m\n\u001b[0m\u001b[1;32m    735\u001b[0m             \u001b[0;32melse\u001b[0m\u001b[0;34m:\u001b[0m\u001b[0;34m\u001b[0m\u001b[0;34m\u001b[0m\u001b[0m\n\u001b[1;32m    736\u001b[0m                 \u001b[0;32mbreak\u001b[0m\u001b[0;34m\u001b[0m\u001b[0;34m\u001b[0m\u001b[0m\n",
            "\u001b[0;31mKeyboardInterrupt\u001b[0m: "
          ]
        }
      ]
    },
    {
      "cell_type": "code",
      "metadata": {
        "id": "PvHafQ_L-kUS"
      },
      "source": [
        "#print the quotes : Don't judge each day by the harvest you reap but by the seeds that you plant.\n",
        "#Example for syntax Error\n",
        "#'primt Don't judge each day by the harvest you reap but by the seeds that you plant'\n",
        "#syntax error here is mis-spelt print and use of single quote in a string when the string already has single quote "
      ],
      "execution_count": null,
      "outputs": []
    },
    {
      "cell_type": "code",
      "metadata": {
        "colab": {
          "base_uri": "https://localhost:8080/"
        },
        "id": "cC05MB0QAVMS",
        "outputId": "e8ace3b7-2198-4b50-d9d0-e418a454e8bf"
      },
      "source": [
        "# identify the error, label the type of error and correct the error\n",
        "#class =\"plant\" # class is a keyword\n",
        "#crop name =\"Brinjal\" # use of space in identifire\n",
        "#yeid = 20kg # identifier cannot start with number\n",
        "# print name of the class, crop name and yeid \n",
        "#x=10\n",
        "#print (X)\n",
        "# print the value of x\n",
        "\n",
        "name_1=\"plants\"\n",
        "crop_name=\"Brinjal\"\n",
        "x=10\n",
        "print(name_1)\n",
        "print(crop_name)\n",
        "print(x)\n"
      ],
      "execution_count": null,
      "outputs": [
        {
          "output_type": "stream",
          "name": "stdout",
          "text": [
            "plants\n",
            "Brinjal\n",
            "10\n"
          ]
        }
      ]
    },
    {
      "cell_type": "code",
      "metadata": {
        "colab": {
          "base_uri": "https://localhost:8080/"
        },
        "id": "60VEh4AND6ar",
        "outputId": "427aa394-3a78-491a-cb81-c2deb9560f3d"
      },
      "source": [
        "# Find the errors in the coding and correct\n",
        "# formula to convert centrigrade to fahr\n",
        "#C = 21; F = 9/5*C + 32   error here is variable not decleared properly\n",
        "#C = 21.0; F = (9/5)*C + 3 error here is same name is been use for both identifier\n",
        "#no print  statement used to print the output\n",
        "fahrenheit_ip = float(input(\"enter the fahrenheit as input\"))\n",
        "print(fahrenheit_ip)\n",
        "celsus= ((fahrenheit_ip-32) * 0.5556)\n",
        "print (celsus)\n",
        "\n"
      ],
      "execution_count": null,
      "outputs": [
        {
          "output_type": "stream",
          "name": "stdout",
          "text": [
            "enter the fahrenheit as input34\n",
            "34.0\n",
            "1.1112\n"
          ]
        }
      ]
    },
    {
      "cell_type": "code",
      "metadata": {
        "colab": {
          "base_uri": "https://localhost:8080/"
        },
        "id": "O_TU81_VFaaS",
        "outputId": "e3c21a3a-d20c-4526-9003-ea5372220556"
      },
      "source": [
        "#Explain why the code is not working\n",
        "#c= a+ b\n",
        "#a =10\n",
        "#b = 5\n",
        "#print(c)\n",
        "#intitialisation failed"
      ],
      "execution_count": null,
      "outputs": [
        {
          "output_type": "stream",
          "name": "stdout",
          "text": [
            "15\n"
          ]
        }
      ]
    },
    {
      "cell_type": "code",
      "metadata": {
        "colab": {
          "base_uri": "https://localhost:8080/",
          "height": 129
        },
        "id": "M4hAP4UVGBLx",
        "outputId": "cab90f87-5dfd-4784-cc62-1301a0c0b539"
      },
      "source": [
        "#Find the bugs in the below code, correct the mistakes and comment suggestions \n",
        "#from math import pi\n",
        "#h = 5.0 # height\n",
        "#B = 2.0 # base\n",
        "# r = 1.5 radius\n",
        "#area_parallelogram = h*b\n",
        " #print 'The area of the parallelogram is %.3f' % area_parallelgram\n",
        "#area_square = b**2 #----- case sensitive here we need to use B NOT 'b'\n",
        "#print 'The area of the square is %g' % area_square\n",
        "#area_circle = pi*r**2\n",
        "#print 'The area of the circle is %.3f' % area_circle\n",
        "#volume_cone = 1.0/3*pi*r**2*h\n",
        "#print 'The volume of the cone is %.3f' % volume_cone\n"
      ],
      "execution_count": null,
      "outputs": [
        {
          "output_type": "error",
          "ename": "IndentationError",
          "evalue": "ignored",
          "traceback": [
            "\u001b[0;36m  File \u001b[0;32m\"<ipython-input-93-e8af3ddd03ef>\"\u001b[0;36m, line \u001b[0;32m5\u001b[0m\n\u001b[0;31m    r = 5\u001b[0m\n\u001b[0m    ^\u001b[0m\n\u001b[0;31mIndentationError\u001b[0m\u001b[0;31m:\u001b[0m unexpected indent\n"
          ]
        }
      ]
    },
    {
      "cell_type": "code",
      "metadata": {
        "colab": {
          "base_uri": "https://localhost:8080/",
          "height": 129
        },
        "id": "CDEvHdsJHlvZ",
        "outputId": "5472f828-be62-4943-ee7d-09143433c6d6"
      },
      "source": [
        "# This code shows the use math module\n",
        "# Run time error and Logical Error\n",
        "from math \n",
        "import sin\n",
        "r= sin(c)\n",
        "x=2.4 # name error\n",
        "y = 2.5 + 3j\n",
        "y_new = abs(y)\n",
        "print(y_New\n",
        "      #math.sin not define\n",
        "math.sin(x)\n",
        "math.sin(y)"
      ],
      "execution_count": null,
      "outputs": [
        {
          "output_type": "error",
          "ename": "SyntaxError",
          "evalue": "ignored",
          "traceback": [
            "\u001b[0;36m  File \u001b[0;32m\"<ipython-input-95-2f5a6383c542>\"\u001b[0;36m, line \u001b[0;32m3\u001b[0m\n\u001b[0;31m    from math\u001b[0m\n\u001b[0m              ^\u001b[0m\n\u001b[0;31mSyntaxError\u001b[0m\u001b[0;31m:\u001b[0m invalid syntax\n"
          ]
        }
      ]
    },
    {
      "cell_type": "code",
      "metadata": {
        "colab": {
          "base_uri": "https://localhost:8080/",
          "height": 129
        },
        "id": "0EG5yQffIZ_S",
        "outputId": "d6b1602a-97a4-4d73-a827-8710b76694ae"
      },
      "source": [
        "print(\\\"Hello, World!\\\")\n",
        "print(5)\n",
        "print(\\\"All finished!\\\") #syntax error"
      ],
      "execution_count": null,
      "outputs": [
        {
          "output_type": "error",
          "ename": "SyntaxError",
          "evalue": "ignored",
          "traceback": [
            "\u001b[0;36m  File \u001b[0;32m\"<ipython-input-96-f370dc33b9b5>\"\u001b[0;36m, line \u001b[0;32m1\u001b[0m\n\u001b[0;31m    print(\\\"Hello, World!\\\")\u001b[0m\n\u001b[0m                            ^\u001b[0m\n\u001b[0;31mSyntaxError\u001b[0m\u001b[0;31m:\u001b[0m unexpected character after line continuation character\n"
          ]
        }
      ]
    },
    {
      "cell_type": "code",
      "metadata": {
        "colab": {
          "base_uri": "https://localhost:8080/"
        },
        "id": "_aPYGywJI93h",
        "outputId": "2efb69ec-a579-4d38-ba24-d8fefa4317c4"
      },
      "source": [
        "# Print the statement, Kindly help me!\n",
        "#print \\\"Kindly help me! \n",
        " # missing parentheses \n",
        "print(\"kindly help me!\") "
      ],
      "execution_count": null,
      "outputs": [
        {
          "output_type": "stream",
          "name": "stdout",
          "text": [
            "kindly help me!\n"
          ]
        }
      ]
    },
    {
      "cell_type": "code",
      "metadata": {
        "colab": {
          "base_uri": "https://localhost:8080/"
        },
        "id": "UK7rREHVJd1h",
        "outputId": "afe05b01-2b86-49e0-8e1d-7e44a288aadb"
      },
      "source": [
        "# print the value of the course\n",
        "course = (\"Programming with Python\")\n",
        "print (course)\n",
        "print (type(course))"
      ],
      "execution_count": null,
      "outputs": [
        {
          "output_type": "stream",
          "name": "stdout",
          "text": [
            "Programming with Python\n",
            "<class 'str'>\n"
          ]
        }
      ]
    },
    {
      "cell_type": "code",
      "metadata": {
        "colab": {
          "base_uri": "https://localhost:8080/",
          "height": 129
        },
        "id": "rdwJU_-oJuZ4",
        "outputId": "1953c7e4-ddf3-4e6f-b7d3-a3b87dc9223e"
      },
      "source": [
        "#store the size of the land in the variable size  in square feet \n",
        "size=200\n",
        "#store the income as in\n",
        "#print the value of  both size and income \n",
        "in=9000\n",
        "cropName=\"Drumstick\"\n",
        "print ('cropName')\n",
        "year@2021 =\"Drumstick\"\n",
        "#special characteris not allowed"
      ],
      "execution_count": null,
      "outputs": [
        {
          "output_type": "error",
          "ename": "SyntaxError",
          "evalue": "ignored",
          "traceback": [
            "\u001b[0;36m  File \u001b[0;32m\"<ipython-input-120-2c6a732776d5>\"\u001b[0;36m, line \u001b[0;32m5\u001b[0m\n\u001b[0;31m    in=9000\u001b[0m\n\u001b[0m     ^\u001b[0m\n\u001b[0;31mSyntaxError\u001b[0m\u001b[0;31m:\u001b[0m invalid syntax\n"
          ]
        }
      ]
    },
    {
      "cell_type": "code",
      "metadata": {
        "colab": {
          "base_uri": "https://localhost:8080/",
          "height": 129
        },
        "id": "EDlpOlXoKktp",
        "outputId": "b6c1fcdd-cbbb-4eaa-c6f1-d7d2ceab9d2d"
      },
      "source": [
        "print ('Don't eat those cookies before dinner.')\n",
        "# shoud use double quote when the string already has single quote in it"
      ],
      "execution_count": null,
      "outputs": [
        {
          "output_type": "error",
          "ename": "SyntaxError",
          "evalue": "ignored",
          "traceback": [
            "\u001b[0;36m  File \u001b[0;32m\"<ipython-input-107-b1d9d508c7cc>\"\u001b[0;36m, line \u001b[0;32m1\u001b[0m\n\u001b[0;31m    print ('Don't eat those cookies before dinner.')\u001b[0m\n\u001b[0m                ^\u001b[0m\n\u001b[0;31mSyntaxError\u001b[0m\u001b[0;31m:\u001b[0m invalid syntax\n"
          ]
        }
      ]
    },
    {
      "cell_type": "code",
      "metadata": {
        "colab": {
          "base_uri": "https://localhost:8080/"
        },
        "id": "MAeoqVWZLmFS",
        "outputId": "81647fe4-8e19-4cb6-a1d8-b3836461e535"
      },
      "source": [
        " print ('Hello \\t \\t \\t world' )"
      ],
      "execution_count": null,
      "outputs": [
        {
          "output_type": "stream",
          "name": "stdout",
          "text": [
            "Hello \t \t \t world\n"
          ]
        }
      ]
    },
    {
      "cell_type": "code",
      "metadata": {
        "colab": {
          "base_uri": "https://localhost:8080/"
        },
        "id": "8OSQvCiNL3bI",
        "outputId": "8c6c836c-215e-4bcb-eda4-f6efe0e051d0"
      },
      "source": [
        "print ('I like Python Programming!')"
      ],
      "execution_count": null,
      "outputs": [
        {
          "output_type": "stream",
          "name": "stdout",
          "text": [
            "I like Python Programming!\n"
          ]
        }
      ]
    },
    {
      "cell_type": "code",
      "metadata": {
        "colab": {
          "base_uri": "https://localhost:8080/"
        },
        "id": "lllYlmfkMG5h",
        "outputId": "4cda6e08-9a65-46aa-8065-2997d0388b63"
      },
      "source": [
        "print (\"The first program in any programming language is 'Hello World!' \")"
      ],
      "execution_count": null,
      "outputs": [
        {
          "output_type": "stream",
          "name": "stdout",
          "text": [
            "The first program in any programming language is 'Hello World!' \n"
          ]
        }
      ]
    },
    {
      "cell_type": "code",
      "metadata": {
        "colab": {
          "base_uri": "https://localhost:8080/"
        },
        "id": "Pz22eDH3MUZo",
        "outputId": "8b4a7120-abd1-4608-b523-3f4f31a683b7"
      },
      "source": [
        "print ('cropName')\n"
      ],
      "execution_count": null,
      "outputs": [
        {
          "output_type": "stream",
          "name": "stdout",
          "text": [
            "cropName\n"
          ]
        }
      ]
    },
    {
      "cell_type": "code",
      "metadata": {
        "colab": {
          "base_uri": "https://localhost:8080/"
        },
        "id": "WppZiUa7MeWA",
        "outputId": "b510918b-0862-4736-ba46-92d6b92dcc19"
      },
      "source": [
        "# find the bug\\ intentation error\n",
        "1/2"
      ],
      "execution_count": null,
      "outputs": [
        {
          "output_type": "execute_result",
          "data": {
            "text/plain": [
              "0.5"
            ]
          },
          "metadata": {},
          "execution_count": 126
        }
      ]
    },
    {
      "cell_type": "code",
      "metadata": {
        "colab": {
          "base_uri": "https://localhost:8080/"
        },
        "id": "fmRyRWLHNYeK",
        "outputId": "84b6336c-21f1-4a73-cd4d-c91c4c3e5dd7"
      },
      "source": [
        "profit = 1000\n",
        "#increment profit by 1\n",
        "profit+=1\n",
        "print (profit)"
      ],
      "execution_count": null,
      "outputs": [
        {
          "output_type": "stream",
          "name": "stdout",
          "text": [
            "1001\n"
          ]
        }
      ]
    },
    {
      "cell_type": "code",
      "metadata": {
        "colab": {
          "base_uri": "https://localhost:8080/"
        },
        "id": "AxsWdrpWNzFz",
        "outputId": "774ff4cf-e835-40c6-a885-d0d7b7b4c121"
      },
      "source": [
        "import math\n",
        "#syntax error\n",
        "print (math.log(10))"
      ],
      "execution_count": null,
      "outputs": [
        {
          "output_type": "stream",
          "name": "stdout",
          "text": [
            "2.302585092994046\n"
          ]
        }
      ]
    },
    {
      "cell_type": "code",
      "metadata": {
        "colab": {
          "base_uri": "https://localhost:8080/"
        },
        "id": "64YAshdyOlvo",
        "outputId": "996b8da1-b4a5-4f79-b780-fd9828aac9e9"
      },
      "source": [
        "#syntax error\n",
        "import math\n",
        "print (math.sin(2))"
      ],
      "execution_count": null,
      "outputs": [
        {
          "output_type": "stream",
          "name": "stdout",
          "text": [
            "0.9092974268256817\n"
          ]
        }
      ]
    },
    {
      "cell_type": "code",
      "metadata": {
        "colab": {
          "base_uri": "https://localhost:8080/"
        },
        "id": "6z6LrqgVOuc4",
        "outputId": "2e10e8eb-00e9-458e-dc2f-a135468a0668"
      },
      "source": [
        "num_int =55\n",
        "num_str =34\n",
        "total = num_int + num_str\n",
        "print (total)\n",
        "print (type(num_int))\n",
        "print (type(num_str))"
      ],
      "execution_count": null,
      "outputs": [
        {
          "output_type": "stream",
          "name": "stdout",
          "text": [
            "89\n",
            "<class 'int'>\n",
            "<class 'int'>\n"
          ]
        }
      ]
    },
    {
      "cell_type": "code",
      "metadata": {
        "colab": {
          "base_uri": "https://localhost:8080/"
        },
        "id": "EGvbfc7oPEaQ",
        "outputId": "858dc093-3ca7-426d-cddd-36fb1665e378"
      },
      "source": [
        "# Trying to print the multiplication entry, but it throws error\n",
        "# 5*6 =30 SyntaxError: EOL while scanning string literal\n",
        "5*6 == 30"
      ],
      "execution_count": null,
      "outputs": [
        {
          "output_type": "execute_result",
          "data": {
            "text/plain": [
              "True"
            ]
          },
          "metadata": {},
          "execution_count": 142
        }
      ]
    },
    {
      "cell_type": "code",
      "metadata": {
        "colab": {
          "base_uri": "https://localhost:8080/"
        },
        "id": "LpudtM5IPsQ8",
        "outputId": "d3bd3c19-948e-4085-aae0-b02dd9e56631"
      },
      "source": [
        "# Trying to find the round of 10.2\n",
        "round(10.2)"
      ],
      "execution_count": null,
      "outputs": [
        {
          "output_type": "execute_result",
          "data": {
            "text/plain": [
              "10"
            ]
          },
          "metadata": {},
          "execution_count": 143
        }
      ]
    },
    {
      "cell_type": "code",
      "metadata": {
        "colab": {
          "base_uri": "https://localhost:8080/"
        },
        "id": "5AmpXzmHP7Hw",
        "outputId": "e7ed9c48-18a4-47fa-f15e-849f9a4af8a7"
      },
      "source": [
        "# Trying to calculate 2 to the power of 5 \n",
        "2**5"
      ],
      "execution_count": null,
      "outputs": [
        {
          "output_type": "execute_result",
          "data": {
            "text/plain": [
              "32"
            ]
          },
          "metadata": {},
          "execution_count": 144
        }
      ]
    },
    {
      "cell_type": "code",
      "metadata": {
        "colab": {
          "base_uri": "https://localhost:8080/"
        },
        "id": "l3wxC9B-QG6p",
        "outputId": "af85d182-2d5d-473a-9fbd-df551113728b"
      },
      "source": [
        "#trying to multiply 5 \n",
        "#\"5 X 5\n",
        "5*5"
      ],
      "execution_count": null,
      "outputs": [
        {
          "output_type": "execute_result",
          "data": {
            "text/plain": [
              "25"
            ]
          },
          "metadata": {},
          "execution_count": 145
        }
      ]
    },
    {
      "cell_type": "code",
      "metadata": {
        "colab": {
          "base_uri": "https://localhost:8080/"
        },
        "id": "1zu3HxAZQQj7",
        "outputId": "fbe6d2e6-bc75-4dca-fb4b-9ae42c485e48"
      },
      "source": [
        "# Trying to print the text message Hello\n",
        "print('hello')"
      ],
      "execution_count": null,
      "outputs": [
        {
          "output_type": "stream",
          "name": "stdout",
          "text": [
            "hello\n"
          ]
        }
      ]
    },
    {
      "cell_type": "code",
      "metadata": {
        "colab": {
          "base_uri": "https://localhost:8080/",
          "height": 129
        },
        "id": "rR1DP4jHQdb6",
        "outputId": "b690ab09-c3f1-42ac-82a8-f5d8ca8ba727"
      },
      "source": [
        "#store the size of the land in the variable size  in square feet\n",
        "size = 200\n",
        "#store the income as in\n",
        "#print the value of  both size and income\n",
        "in = 9000 # naming wrong\n",
        "#cropName=\\\"Drumstick\\\"\\n\",\n",
        "        \"year@2021 = 'Drumstick'\" # special charcter not allowed"
      ],
      "execution_count": null,
      "outputs": [
        {
          "output_type": "error",
          "ename": "SyntaxError",
          "evalue": "ignored",
          "traceback": [
            "\u001b[0;36m  File \u001b[0;32m\"<ipython-input-149-fa652a363c5e>\"\u001b[0;36m, line \u001b[0;32m5\u001b[0m\n\u001b[0;31m    in = 9000 # naming wrong\u001b[0m\n\u001b[0m     ^\u001b[0m\n\u001b[0;31mSyntaxError\u001b[0m\u001b[0;31m:\u001b[0m invalid syntax\n"
          ]
        }
      ]
    }
  ]
}